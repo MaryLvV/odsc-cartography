{
 "cells": [
  {
   "cell_type": "markdown",
   "metadata": {},
   "source": [
    "## Overview of mapping tools in Data Science\n",
    "\n",
    "### Static maps\n",
    "\n",
    "#### R's fields package\n",
    "\n",
    "```R\n",
    "library(fields)\n",
    "data(NorthAmericanRainfall)\n",
    "x<- cbind(NorthAmericanRainfall$longitude, NorthAmericanRainfall$latitude)\n",
    "y<- NorthAmericanRainfall$precip\n",
    "quilt.plot(x,y)\n",
    "world(add=TRUE)\n",
    "```\n",
    "\n",
    "![](./odsc-assets/fields.png)\n",
    "\n",
    "#### Altair\n",
    "\n",
    "Python interface for [vega](https://vega.github.io/vega/).\n",
    "\n",
    "```python\n",
    "import altair as alt\n",
    "from vega_datasets import data\n",
    "\n",
    "counties = alt.topo_feature(data.us_10m.url, 'counties')\n",
    "source = data.unemployment.url\n",
    "\n",
    "alt.Chart(counties).mark_geoshape().encode(\n",
    "    color='rate:Q'\n",
    ").transform_lookup(\n",
    "    lookup='id',\n",
    "    from_=alt.LookupData(source, 'id', ['rate'])\n",
    ").project(\n",
    "    type='albersUsa'\n",
    ").properties(\n",
    "    width=500,\n",
    "    height=300\n",
    ")\n",
    "```\n",
    "\n",
    "![](./odsc-assets/altair.png)\n",
    "\n",
    "[source](https://altair-viz.github.io/index.html)\n",
    "\n",
    "#### Bokeh\n",
    "\n",
    "```python\n",
    "from bokeh.plotting import figure, show, output_notebook\n",
    "from bokeh.tile_providers import CARTODBPOSITRON\n",
    "# range bounds supplied in web mercator coordinates\n",
    "p = figure(x_axis_type=\"mercator\", y_axis_type=\"mercator\")\n",
    "p.add_tile(CARTODBPOSITRON)\n",
    "p.circle(x=Merged['coords_x'],\n",
    "         y=Merged['coords_y'], \n",
    "         size=Merged['circle_sizes'],\n",
    "         line_color=\"#FF0000\", \n",
    "         fill_color=\"#FF0000\",\n",
    "         fill_alpha=0.05)\n",
    "    \n",
    "output_notebook()\n",
    "show(p)\n",
    "```\n",
    "\n",
    "<img src=\"./odsc-assets/bokeh.png\" alt=\"bokeh\" style=\"width: 500px;\" />\n",
    "\n",
    "[source](https://towardsdatascience.com/exploring-and-visualizing-chicago-transit-data-using-pandas-and-bokeh-part-ii-intro-to-bokeh-5dca6c5ced10)\n",
    "\n",
    "## Interactive Maps\n",
    "\n",
    "### Plotly\n",
    "\n",
    "```python\n",
    "import plotly.plotly as py\n",
    "import plotly.graph_objs as go\n",
    "\n",
    "import pandas as pd\n",
    "\n",
    "df = pd.read_csv('https://raw.githubusercontent.com/plotly/datasets/master/2014_us_cities.csv')\n",
    "df.head()\n",
    "\n",
    "df['text'] = df['name'] + '<br>Population ' + (df['pop']/1e6).astype(str)+' million'\n",
    "limits = [(0,2),(3,10),(11,20),(21,50),(50,3000)]\n",
    "colors = [\"rgb(0,116,217)\",\"rgb(255,65,54)\",\"rgb(133,20,75)\",\"rgb(255,133,27)\",\"lightgrey\"]\n",
    "cities = []\n",
    "scale = 5000\n",
    "\n",
    "for i in range(len(limits)):\n",
    "    lim = limits[i]\n",
    "    df_sub = df[lim[0]:lim[1]]\n",
    "    city = go.Scattergeo(\n",
    "        locationmode = 'USA-states',\n",
    "        lon = df_sub['lon'],\n",
    "        lat = df_sub['lat'],\n",
    "        text = df_sub['text'],\n",
    "        marker = go.scattergeo.Marker(\n",
    "            size = df_sub['pop']/scale,\n",
    "            color = colors[i],\n",
    "            line = go.scattergeo.marker.Line(\n",
    "                width=0.5, color='rgb(40,40,40)'\n",
    "            ),\n",
    "            sizemode = 'area'\n",
    "        ),\n",
    "        name = '{0} - {1}'.format(lim[0],lim[1]) )\n",
    "    cities.append(city)\n",
    "\n",
    "layout = go.Layout(\n",
    "        title = go.layout.Title(\n",
    "            text = '2014 US city populations<br>(Click legend to toggle traces)'\n",
    "        ),\n",
    "        showlegend = True,\n",
    "        geo = go.layout.Geo(\n",
    "            scope = 'usa',\n",
    "            projection = go.layout.geo.Projection(\n",
    "                type='albers usa'\n",
    "            ),\n",
    "            showland = True,\n",
    "            landcolor = 'rgb(217, 217, 217)',\n",
    "            subunitwidth=1,\n",
    "            countrywidth=1,\n",
    "            subunitcolor=\"rgb(255, 255, 255)\",\n",
    "            countrycolor=\"rgb(255, 255, 255)\"\n",
    "        )\n",
    "    )\n",
    "\n",
    "fig = go.Figure(data=cities, layout=layout)\n",
    "py.iplot(fig, filename='d3-bubble-map-populations')\n",
    "```\n",
    "\n",
    "<img src=\"./odsc-assets/plotly.gif\" alt=\"plotly\" style=\"width: 500px\" />\n",
    "\n",
    "### Leaflet.js: [Folium](https://python-visualization.github.io/folium) (Python) and [Leaflet for R](https://rstudio.github.io/leaflet/) (R)\n",
    "\n",
    "```python\n",
    "import branca\n",
    "\n",
    "county_data = os.path.join('data', 'us_county_data.csv')\n",
    "county_geo = os.path.join('data', 'us_counties_20m_topo.json')\n",
    "\n",
    "df = pd.read_csv(county_data, na_values=[' '])\n",
    "\n",
    "\n",
    "colorscale = branca.colormap.linear.YlOrRd_09.scale(0, 50e3)\n",
    "employed_series = df.set_index('FIPS_Code')['Employed_2011']\n",
    "\n",
    "\n",
    "def style_function(feature):\n",
    "    employed = employed_series.get(int(feature['id'][-5:]), None)\n",
    "    return {\n",
    "        'fillOpacity': 0.5,\n",
    "        'weight': 0,\n",
    "        'fillColor': '#black' if employed is None else colorscale(employed)\n",
    "    }\n",
    "\n",
    "\n",
    "m = folium.Map(\n",
    "    location=[48, -102],\n",
    "    tiles='cartodbpositron',\n",
    "    zoom_start=3\n",
    ")\n",
    "\n",
    "folium.TopoJson(\n",
    "    open(county_geo),\n",
    "    'objects.us_counties_20m',\n",
    "    style_function=style_function\n",
    ").add_to(m)\n",
    "```\n",
    "\n",
    "<img src=\"./odsc-assets/folium.gif\" alt=\"folium\" style=\"width: 500px\" />\n",
    "\n",
    "### cartoframes\n",
    "\n",
    "```python\n",
    "vl.Map(layers=[\n",
    "        vl.Layer('seattle_collisions',\n",
    "                {'width': 'ramp(linear($personcount, 2, 5), [5, 20]) * animation(linear($incdate), 20,fade(1, 1))',\n",
    "                 'color': 'opacity(turquoise, 0.8)',\n",
    "                 'stroke-width': 0})\n",
    "    ],\n",
    "    context=CartoContext(base_url='https://cartovl.carto.com/', api_key='default_public'),\n",
    "    basemap=basemaps.Basemaps.darkmatter\n",
    ")\n",
    "```\n",
    "\n",
    "<img src=\"./odsc-assets/cartoframes.gif\" alt=\"plotly\" style=\"width: 500px\" />"
   ]
  },
  {
   "cell_type": "markdown",
   "metadata": {},
   "source": [
    "## Demo / mini-workshop\n",
    "\n",
    "To follow along, visit:\n",
    "- https://github.com/andy-esch/odsc-cartography\n",
    "- Follow README\n",
    "  * `$ git clone https://github.com/andy-esch/odsc-cartography`\n",
    "  * `$ cd odsc-cartography`\n",
    "  * `$ "
   ]
  },
  {
   "cell_type": "code",
   "execution_count": 1,
   "metadata": {},
   "outputs": [],
   "source": [
    "%matplotlib inline\n",
    "import matplotlib.pyplot as plt\n",
    "import cartoframes.carto_vl as vl\n",
    "from cartoframes.carto_vl.basemap import basemaps\n",
    "from cartoframes import CartoContext, Credentials\n",
    "import pandas as pd\n",
    "from IPython.display import Image\n",
    "\n",
    "cc = CartoContext(\n",
    "    base_url='https://eschbacher.carto.com/',\n",
    "    api_key='default_public'\n",
    ")"
   ]
  },
  {
   "cell_type": "markdown",
   "metadata": {},
   "source": [
    "## Defaults\n",
    "\n",
    "We'll work with [Seattle vehicle collisions](https://data.seattle.gov/Transportation/Collisions/vac5-r8kk)."
   ]
  },
  {
   "cell_type": "code",
   "execution_count": 2,
   "metadata": {},
   "outputs": [
    {
     "ename": "TemplateNotFound",
     "evalue": "vector/basic.html.j2",
     "output_type": "error",
     "traceback": [
      "\u001b[0;31m---------------------------------------------------------------------------\u001b[0m",
      "\u001b[0;31mTemplateNotFound\u001b[0m                          Traceback (most recent call last)",
      "\u001b[0;32m<ipython-input-2-a9db0f64cc14>\u001b[0m in \u001b[0;36m<module>\u001b[0;34m\u001b[0m\n\u001b[1;32m      2\u001b[0m         \u001b[0mvl\u001b[0m\u001b[0;34m.\u001b[0m\u001b[0mLayer\u001b[0m\u001b[0;34m(\u001b[0m\u001b[0;34m'seattle_collisions'\u001b[0m\u001b[0;34m)\u001b[0m\u001b[0;34m,\u001b[0m\u001b[0;34m\u001b[0m\u001b[0;34m\u001b[0m\u001b[0m\n\u001b[1;32m      3\u001b[0m     ],\n\u001b[0;32m----> 4\u001b[0;31m     \u001b[0mcontext\u001b[0m\u001b[0;34m=\u001b[0m\u001b[0mcc\u001b[0m\u001b[0;34m\u001b[0m\u001b[0;34m\u001b[0m\u001b[0m\n\u001b[0m\u001b[1;32m      5\u001b[0m )\n",
      "\u001b[0;32m~/.local/share/virtualenvs/odsc-cartography-gK7cOzdj/lib/python3.7/site-packages/cartoframes/utils.py\u001b[0m in \u001b[0;36mwrapper\u001b[0;34m(*args, **kwargs)\u001b[0m\n\u001b[1;32m     78\u001b[0m         \u001b[0;32mwith\u001b[0m \u001b[0mcatch_warnings\u001b[0m\u001b[0;34m(\u001b[0m\u001b[0;34m)\u001b[0m\u001b[0;34m:\u001b[0m\u001b[0;34m\u001b[0m\u001b[0;34m\u001b[0m\u001b[0m\n\u001b[1;32m     79\u001b[0m             \u001b[0mfilterwarnings\u001b[0m\u001b[0;34m(\u001b[0m\u001b[0;34m'ignore'\u001b[0m\u001b[0;34m)\u001b[0m\u001b[0;34m\u001b[0m\u001b[0;34m\u001b[0m\u001b[0m\n\u001b[0;32m---> 80\u001b[0;31m             \u001b[0mevaled_func\u001b[0m \u001b[0;34m=\u001b[0m \u001b[0mfunc\u001b[0m\u001b[0;34m(\u001b[0m\u001b[0;34m*\u001b[0m\u001b[0margs\u001b[0m\u001b[0;34m,\u001b[0m \u001b[0;34m**\u001b[0m\u001b[0mkwargs\u001b[0m\u001b[0;34m)\u001b[0m\u001b[0;34m\u001b[0m\u001b[0;34m\u001b[0m\u001b[0m\n\u001b[0m\u001b[1;32m     81\u001b[0m         \u001b[0;32mreturn\u001b[0m \u001b[0mevaled_func\u001b[0m\u001b[0;34m\u001b[0m\u001b[0;34m\u001b[0m\u001b[0m\n\u001b[1;32m     82\u001b[0m     \u001b[0;32mreturn\u001b[0m \u001b[0mwrapper\u001b[0m\u001b[0;34m\u001b[0m\u001b[0;34m\u001b[0m\u001b[0m\n",
      "\u001b[0;32m~/.local/share/virtualenvs/odsc-cartography-gK7cOzdj/lib/python3.7/site-packages/cartoframes/carto_vl/maps/map.py\u001b[0m in \u001b[0;36m__init__\u001b[0;34m(self, layers, context, size, basemap, bounds, viewport, template, **kwargs)\u001b[0m\n\u001b[1;32m    137\u001b[0m         \u001b[0mself\u001b[0m\u001b[0;34m.\u001b[0m\u001b[0m_carto_vl_path\u001b[0m \u001b[0;34m=\u001b[0m \u001b[0mkwargs\u001b[0m\u001b[0;34m.\u001b[0m\u001b[0mget\u001b[0m\u001b[0;34m(\u001b[0m\u001b[0;34m'_carto_vl_path'\u001b[0m\u001b[0;34m,\u001b[0m \u001b[0mdefaults\u001b[0m\u001b[0;34m.\u001b[0m\u001b[0m_CARTO_VL_PATH\u001b[0m\u001b[0;34m)\u001b[0m\u001b[0;34m\u001b[0m\u001b[0;34m\u001b[0m\u001b[0m\n\u001b[1;32m    138\u001b[0m         \u001b[0mself\u001b[0m\u001b[0;34m.\u001b[0m\u001b[0m_airship_path\u001b[0m \u001b[0;34m=\u001b[0m \u001b[0mkwargs\u001b[0m\u001b[0;34m.\u001b[0m\u001b[0mget\u001b[0m\u001b[0;34m(\u001b[0m\u001b[0;34m'_airship_path'\u001b[0m\u001b[0;34m,\u001b[0m \u001b[0;32mNone\u001b[0m\u001b[0;34m)\u001b[0m\u001b[0;34m\u001b[0m\u001b[0;34m\u001b[0m\u001b[0m\n\u001b[0;32m--> 139\u001b[0;31m         \u001b[0mself\u001b[0m\u001b[0;34m.\u001b[0m\u001b[0m_htmlMap\u001b[0m \u001b[0;34m=\u001b[0m \u001b[0mHTMLMap\u001b[0m\u001b[0;34m(\u001b[0m\u001b[0;34m)\u001b[0m\u001b[0;34m\u001b[0m\u001b[0;34m\u001b[0m\u001b[0m\n\u001b[0m\u001b[1;32m    140\u001b[0m \u001b[0;34m\u001b[0m\u001b[0m\n\u001b[1;32m    141\u001b[0m         self._htmlMap.set_content(\n",
      "\u001b[0;32m~/.local/share/virtualenvs/odsc-cartography-gK7cOzdj/lib/python3.7/site-packages/cartoframes/carto_vl/utils/html.py\u001b[0m in \u001b[0;36m__init__\u001b[0;34m(self)\u001b[0m\n\u001b[1;32m     22\u001b[0m \u001b[0;34m\u001b[0m\u001b[0m\n\u001b[1;32m     23\u001b[0m         \u001b[0mself\u001b[0m\u001b[0;34m.\u001b[0m\u001b[0mhtml\u001b[0m \u001b[0;34m=\u001b[0m \u001b[0;32mNone\u001b[0m\u001b[0;34m\u001b[0m\u001b[0;34m\u001b[0m\u001b[0m\n\u001b[0;32m---> 24\u001b[0;31m         \u001b[0mself\u001b[0m\u001b[0;34m.\u001b[0m\u001b[0m_template\u001b[0m \u001b[0;34m=\u001b[0m \u001b[0mself\u001b[0m\u001b[0;34m.\u001b[0m\u001b[0m_env\u001b[0m\u001b[0;34m.\u001b[0m\u001b[0mget_template\u001b[0m\u001b[0;34m(\u001b[0m\u001b[0;34m'vector/basic.html.j2'\u001b[0m\u001b[0;34m)\u001b[0m\u001b[0;34m\u001b[0m\u001b[0;34m\u001b[0m\u001b[0m\n\u001b[0m\u001b[1;32m     25\u001b[0m \u001b[0;34m\u001b[0m\u001b[0m\n\u001b[1;32m     26\u001b[0m     def set_content(\n",
      "\u001b[0;32m~/.local/share/virtualenvs/odsc-cartography-gK7cOzdj/lib/python3.7/site-packages/jinja2/environment.py\u001b[0m in \u001b[0;36mget_template\u001b[0;34m(self, name, parent, globals)\u001b[0m\n\u001b[1;32m    828\u001b[0m         \u001b[0;32mif\u001b[0m \u001b[0mparent\u001b[0m \u001b[0;32mis\u001b[0m \u001b[0;32mnot\u001b[0m \u001b[0;32mNone\u001b[0m\u001b[0;34m:\u001b[0m\u001b[0;34m\u001b[0m\u001b[0;34m\u001b[0m\u001b[0m\n\u001b[1;32m    829\u001b[0m             \u001b[0mname\u001b[0m \u001b[0;34m=\u001b[0m \u001b[0mself\u001b[0m\u001b[0;34m.\u001b[0m\u001b[0mjoin_path\u001b[0m\u001b[0;34m(\u001b[0m\u001b[0mname\u001b[0m\u001b[0;34m,\u001b[0m \u001b[0mparent\u001b[0m\u001b[0;34m)\u001b[0m\u001b[0;34m\u001b[0m\u001b[0;34m\u001b[0m\u001b[0m\n\u001b[0;32m--> 830\u001b[0;31m         \u001b[0;32mreturn\u001b[0m \u001b[0mself\u001b[0m\u001b[0;34m.\u001b[0m\u001b[0m_load_template\u001b[0m\u001b[0;34m(\u001b[0m\u001b[0mname\u001b[0m\u001b[0;34m,\u001b[0m \u001b[0mself\u001b[0m\u001b[0;34m.\u001b[0m\u001b[0mmake_globals\u001b[0m\u001b[0;34m(\u001b[0m\u001b[0mglobals\u001b[0m\u001b[0;34m)\u001b[0m\u001b[0;34m)\u001b[0m\u001b[0;34m\u001b[0m\u001b[0;34m\u001b[0m\u001b[0m\n\u001b[0m\u001b[1;32m    831\u001b[0m \u001b[0;34m\u001b[0m\u001b[0m\n\u001b[1;32m    832\u001b[0m     \u001b[0;34m@\u001b[0m\u001b[0minternalcode\u001b[0m\u001b[0;34m\u001b[0m\u001b[0;34m\u001b[0m\u001b[0m\n",
      "\u001b[0;32m~/.local/share/virtualenvs/odsc-cartography-gK7cOzdj/lib/python3.7/site-packages/jinja2/environment.py\u001b[0m in \u001b[0;36m_load_template\u001b[0;34m(self, name, globals)\u001b[0m\n\u001b[1;32m    802\u001b[0m                                          template.is_up_to_date):\n\u001b[1;32m    803\u001b[0m                 \u001b[0;32mreturn\u001b[0m \u001b[0mtemplate\u001b[0m\u001b[0;34m\u001b[0m\u001b[0;34m\u001b[0m\u001b[0m\n\u001b[0;32m--> 804\u001b[0;31m         \u001b[0mtemplate\u001b[0m \u001b[0;34m=\u001b[0m \u001b[0mself\u001b[0m\u001b[0;34m.\u001b[0m\u001b[0mloader\u001b[0m\u001b[0;34m.\u001b[0m\u001b[0mload\u001b[0m\u001b[0;34m(\u001b[0m\u001b[0mself\u001b[0m\u001b[0;34m,\u001b[0m \u001b[0mname\u001b[0m\u001b[0;34m,\u001b[0m \u001b[0mglobals\u001b[0m\u001b[0;34m)\u001b[0m\u001b[0;34m\u001b[0m\u001b[0;34m\u001b[0m\u001b[0m\n\u001b[0m\u001b[1;32m    805\u001b[0m         \u001b[0;32mif\u001b[0m \u001b[0mself\u001b[0m\u001b[0;34m.\u001b[0m\u001b[0mcache\u001b[0m \u001b[0;32mis\u001b[0m \u001b[0;32mnot\u001b[0m \u001b[0;32mNone\u001b[0m\u001b[0;34m:\u001b[0m\u001b[0;34m\u001b[0m\u001b[0;34m\u001b[0m\u001b[0m\n\u001b[1;32m    806\u001b[0m             \u001b[0mself\u001b[0m\u001b[0;34m.\u001b[0m\u001b[0mcache\u001b[0m\u001b[0;34m[\u001b[0m\u001b[0mcache_key\u001b[0m\u001b[0;34m]\u001b[0m \u001b[0;34m=\u001b[0m \u001b[0mtemplate\u001b[0m\u001b[0;34m\u001b[0m\u001b[0;34m\u001b[0m\u001b[0m\n",
      "\u001b[0;32m~/.local/share/virtualenvs/odsc-cartography-gK7cOzdj/lib/python3.7/site-packages/jinja2/loaders.py\u001b[0m in \u001b[0;36mload\u001b[0;34m(self, environment, name, globals)\u001b[0m\n\u001b[1;32m    111\u001b[0m         \u001b[0;31m# first we try to get the source for this template together\u001b[0m\u001b[0;34m\u001b[0m\u001b[0;34m\u001b[0m\u001b[0;34m\u001b[0m\u001b[0m\n\u001b[1;32m    112\u001b[0m         \u001b[0;31m# with the filename and the uptodate function.\u001b[0m\u001b[0;34m\u001b[0m\u001b[0;34m\u001b[0m\u001b[0;34m\u001b[0m\u001b[0m\n\u001b[0;32m--> 113\u001b[0;31m         \u001b[0msource\u001b[0m\u001b[0;34m,\u001b[0m \u001b[0mfilename\u001b[0m\u001b[0;34m,\u001b[0m \u001b[0muptodate\u001b[0m \u001b[0;34m=\u001b[0m \u001b[0mself\u001b[0m\u001b[0;34m.\u001b[0m\u001b[0mget_source\u001b[0m\u001b[0;34m(\u001b[0m\u001b[0menvironment\u001b[0m\u001b[0;34m,\u001b[0m \u001b[0mname\u001b[0m\u001b[0;34m)\u001b[0m\u001b[0;34m\u001b[0m\u001b[0;34m\u001b[0m\u001b[0m\n\u001b[0m\u001b[1;32m    114\u001b[0m \u001b[0;34m\u001b[0m\u001b[0m\n\u001b[1;32m    115\u001b[0m         \u001b[0;31m# try to load the code from the bytecode cache if there is a\u001b[0m\u001b[0;34m\u001b[0m\u001b[0;34m\u001b[0m\u001b[0;34m\u001b[0m\u001b[0m\n",
      "\u001b[0;32m~/.local/share/virtualenvs/odsc-cartography-gK7cOzdj/lib/python3.7/site-packages/jinja2/loaders.py\u001b[0m in \u001b[0;36mget_source\u001b[0;34m(self, environment, template)\u001b[0m\n\u001b[1;32m    233\u001b[0m         \u001b[0mp\u001b[0m \u001b[0;34m=\u001b[0m \u001b[0;34m'/'\u001b[0m\u001b[0;34m.\u001b[0m\u001b[0mjoin\u001b[0m\u001b[0;34m(\u001b[0m\u001b[0;34m(\u001b[0m\u001b[0mself\u001b[0m\u001b[0;34m.\u001b[0m\u001b[0mpackage_path\u001b[0m\u001b[0;34m,\u001b[0m\u001b[0;34m)\u001b[0m \u001b[0;34m+\u001b[0m \u001b[0mtuple\u001b[0m\u001b[0;34m(\u001b[0m\u001b[0mpieces\u001b[0m\u001b[0;34m)\u001b[0m\u001b[0;34m)\u001b[0m\u001b[0;34m\u001b[0m\u001b[0;34m\u001b[0m\u001b[0m\n\u001b[1;32m    234\u001b[0m         \u001b[0;32mif\u001b[0m \u001b[0;32mnot\u001b[0m \u001b[0mself\u001b[0m\u001b[0;34m.\u001b[0m\u001b[0mprovider\u001b[0m\u001b[0;34m.\u001b[0m\u001b[0mhas_resource\u001b[0m\u001b[0;34m(\u001b[0m\u001b[0mp\u001b[0m\u001b[0;34m)\u001b[0m\u001b[0;34m:\u001b[0m\u001b[0;34m\u001b[0m\u001b[0;34m\u001b[0m\u001b[0m\n\u001b[0;32m--> 235\u001b[0;31m             \u001b[0;32mraise\u001b[0m \u001b[0mTemplateNotFound\u001b[0m\u001b[0;34m(\u001b[0m\u001b[0mtemplate\u001b[0m\u001b[0;34m)\u001b[0m\u001b[0;34m\u001b[0m\u001b[0;34m\u001b[0m\u001b[0m\n\u001b[0m\u001b[1;32m    236\u001b[0m \u001b[0;34m\u001b[0m\u001b[0m\n\u001b[1;32m    237\u001b[0m         \u001b[0mfilename\u001b[0m \u001b[0;34m=\u001b[0m \u001b[0muptodate\u001b[0m \u001b[0;34m=\u001b[0m \u001b[0;32mNone\u001b[0m\u001b[0;34m\u001b[0m\u001b[0;34m\u001b[0m\u001b[0m\n",
      "\u001b[0;31mTemplateNotFound\u001b[0m: vector/basic.html.j2"
     ]
    }
   ],
   "source": [
    "vl.Map(layers=[\n",
    "        vl.Layer('seattle_collisions'),\n",
    "    ],\n",
    "    context=cc\n",
    ")"
   ]
  },
  {
   "cell_type": "markdown",
   "metadata": {},
   "source": [
    "## Color by magnitude\n",
    "\n",
    "Let's communicate data on our map -- styling our points by an attribute value. E.g., let's look at `personcount`, the number of people involved in a collision."
   ]
  },
  {
   "cell_type": "code",
   "execution_count": null,
   "metadata": {},
   "outputs": [],
   "source": [
    "df = cc.read('seattle_collisions')\n",
    "df.personcount.hist(bins=20)\n",
    "plt.yscale('log', nonposy='clip')"
   ]
  },
  {
   "cell_type": "code",
   "execution_count": null,
   "metadata": {},
   "outputs": [],
   "source": [
    "vl.Map(layers=[\n",
    "        vl.Layer('seattle_collisions',\n",
    "                {'color': 'ramp($personcount, bluyl)',\n",
    "                 'stroke-width': 0.5})\n",
    "    ],\n",
    "    context=cc\n",
    ")"
   ]
  },
  {
   "cell_type": "markdown",
   "metadata": {},
   "source": [
    "## Add more contrast with a darker basemap"
   ]
  },
  {
   "cell_type": "code",
   "execution_count": null,
   "metadata": {},
   "outputs": [],
   "source": [
    "vl.Map(layers=[\n",
    "        vl.Layer('seattle_collisions',\n",
    "              {'color': 'ramp($personcount, bluyl)',\n",
    "               'stroke-width': 0.5})\n",
    "    ],\n",
    "    context=cc,\n",
    "    basemap=basemaps.Basemaps.darkmatter\n",
    ")"
   ]
  },
  {
   "cell_type": "markdown",
   "metadata": {},
   "source": [
    "Our ramp is light to dark (low `personcount` values to high `personcount` values), so we should reverse our ramp to let the higher count values appear more prominently than the low count values."
   ]
  },
  {
   "cell_type": "code",
   "execution_count": null,
   "metadata": {},
   "outputs": [],
   "source": [
    "from palettable.cartocolors.sequential import BluGrn_7\n",
    "BluGrn_7.show_continuous_image()"
   ]
  },
  {
   "cell_type": "markdown",
   "metadata": {},
   "source": [
    "## Reverse the ramp"
   ]
  },
  {
   "cell_type": "code",
   "execution_count": null,
   "metadata": {},
   "outputs": [],
   "source": [
    "vl.Map(layers=[\n",
    "        vl.Layer('seattle_collisions',\n",
    "              {'color': 'ramp($personcount, reverse(bluyl))',\n",
    "               'stroke-width': 0.5})\n",
    "    ],\n",
    "    context=cc,\n",
    "    basemap=basemaps.Basemaps.darkmatter\n",
    ")"
   ]
  },
  {
   "cell_type": "markdown",
   "metadata": {},
   "source": [
    "But now there are a few problems that prevent us from seeing patterns:\n",
    "\n",
    "- marker outlines are too bright and distract from the markers"
   ]
  },
  {
   "cell_type": "markdown",
   "metadata": {},
   "source": [
    "## Darken the outline\n",
    "\n",
    "Let's darken the outline so the values in the markers pops out more."
   ]
  },
  {
   "cell_type": "code",
   "execution_count": null,
   "metadata": {},
   "outputs": [],
   "source": [
    "vl.Map(layers=[\n",
    "        vl.Layer('seattle_collisions',\n",
    "              {'color': 'ramp($personcount, reverse(bluyl))',\n",
    "               'stroke-width': 0.5,\n",
    "               'stroke-color': 'rgba(51, 51, 51, 0.3)'})\n",
    "    ],\n",
    "    context=cc,\n",
    "    basemap=basemaps.Basemaps.darkmatter\n",
    ")"
   ]
  },
  {
   "cell_type": "markdown",
   "metadata": {},
   "source": [
    "## Smaller ones are brighter against the basemap\n",
    "\n",
    "We can handle this by reversing the color ramp"
   ]
  },
  {
   "cell_type": "code",
   "execution_count": null,
   "metadata": {},
   "outputs": [],
   "source": [
    "vl.Map(layers=[\n",
    "        vl.Layer('seattle_collisions',\n",
    "              {'color': 'ramp($personcount, reverse(bluyl))',\n",
    "               'stroke-width': 0.5,\n",
    "               'stroke-color': 'rgba(51, 51, 51, 0.3)'})\n",
    "    ],\n",
    "    context=cc,\n",
    "    basemap=basemaps.Basemaps.darkmatter\n",
    ")"
   ]
  },
  {
   "cell_type": "markdown",
   "metadata": {},
   "source": [
    "## Add redundant cartography\n",
    "\n",
    "- To further highlight the points we want to highlight, let's size them by the same feature"
   ]
  },
  {
   "cell_type": "code",
   "execution_count": null,
   "metadata": {},
   "outputs": [],
   "source": [
    "vl.Map(layers=[\n",
    "        vl.Layer('seattle_collisions',\n",
    "              {'color': 'ramp($personcount, reverse(bluyl))',\n",
    "               'stroke-width': 0.5,\n",
    "               'stroke-color': 'rgba(51, 51, 51, 0.3)',\n",
    "               'width': 'ramp(globalEqIntervals($personcount, 10), [3, 12])'})\n",
    "    ],\n",
    "    context=cc,\n",
    "    basemap=basemaps.Basemaps.darkmatter\n",
    ")"
   ]
  },
  {
   "cell_type": "markdown",
   "metadata": {},
   "source": [
    "## Add ordering to make larger values appear on the top"
   ]
  },
  {
   "cell_type": "code",
   "execution_count": null,
   "metadata": {},
   "outputs": [],
   "source": [
    "vl.Map(layers=[\n",
    "        vl.Layer('seattle_collisions',\n",
    "              {'color': 'ramp($personcount, reverse(bluyl))',\n",
    "               'stroke-width': 0.5,\n",
    "               'stroke-color': 'rgba(51, 51, 51, 0.3)',\n",
    "               'width': 'ramp(globalEqIntervals($personcount, 10), [3, 12])',\n",
    "               'order': 'desc(width())'})\n",
    "    ],\n",
    "    context=cc,\n",
    "    basemap=basemaps.Basemaps.darkmatter\n",
    ")"
   ]
  },
  {
   "cell_type": "markdown",
   "metadata": {},
   "source": [
    "## Light basemap, light marker outline\n",
    "\n",
    "- the lighter outline helps the markers pop out\n",
    "- the ramps lighter low values aren't as apparent against the lighter basemap\n",
    "- we order by marker width (redundant styling) to make the higher values appear on top"
   ]
  },
  {
   "cell_type": "code",
   "execution_count": null,
   "metadata": {},
   "outputs": [],
   "source": [
    "vl.Map(layers=[\n",
    "        vl.Layer('seattle_collisions',\n",
    "                 {'color': 'ramp($personcount, bluyl)',\n",
    "                  'stroke-width': 0.5,\n",
    "                  'stroke-color': 'rgba(200,200,200,0.3)',\n",
    "                  'width': 'ramp(globalEqIntervals($personcount, 10), [3, 12])',\n",
    "                  'order': 'desc(width())'})\n",
    "    ],\n",
    "    context=cc,\n",
    "    basemap=basemaps.Basemaps.voyager\n",
    ")"
   ]
  },
  {
   "cell_type": "markdown",
   "metadata": {},
   "source": [
    "## Cluster points"
   ]
  },
  {
   "cell_type": "code",
   "execution_count": null,
   "metadata": {},
   "outputs": [],
   "source": [
    "vl.Map(layers=[\n",
    "        vl.Layer('seattle_collisions',\n",
    "            style=\"\"\"\n",
    "                @cl_sum: clusterSum($personcount)\n",
    "                @v_features: viewportFeatures(@cl_sum)\n",
    "\n",
    "                width: ramp(linear(@cl_sum, viewportMIN(@cl_sum), viewportMAX(@cl_sum)), [5, 35])\n",
    "                color: opacity(#C91329, 0.9)\n",
    "                strokeWidth: 0\n",
    "                resolution: 32\n",
    "            \"\"\")\n",
    "    ],\n",
    "    context=cc,\n",
    "    basemap=basemaps.Basemaps.darkmatter\n",
    ")"
   ]
  },
  {
   "cell_type": "markdown",
   "metadata": {},
   "source": [
    "## Key takeaways\n",
    "\n",
    "1. Markers of interest should contrast with your basemap choice (does reversing the ramp make sense?)\n",
    "2. Order points so more important ones are more prominent\n",
    "3. Be careful that marker outlines don't distract from the data in the marker\n",
    "4. It's ok to be redundant! Use size and color together to help you see the patterns\n",
    "5. Visualize data multiple ways to ensure you aren't missing patterns"
   ]
  },
  {
   "cell_type": "markdown",
   "metadata": {},
   "source": [
    "## If we had more time\n",
    "\n",
    "### Choose Color Ramp that fits the distribution of your data\n",
    "\n",
    "| Data Distribution | Ramp | Notes |\n",
    "|-------------------|------|-------|\n",
    "| <img src=\"./odsc-assets/L.png\" style=\"width: 200px\" /> | <img src=\"./odsc-assets/sequential.png\" style=\"width: 200px\" /> | Sequential to highlight low to high values |\n",
    "| <img src=\"./odsc-assets/A.png\" style=\"width: 200px\" /> | <img src=\"./odsc-assets/diverging.png\" style=\"width: 200px\" /> | Diverging centered on high frequency bin |\n",
    "| <img src=\"./odsc-assets/J.png\" style=\"width: 200px\" /> | <img src=\"./odsc-assets/sequential.png\" style=\"width: 200px\" /> | Sequential to highlight lows / highs |\n",
    "| <img src=\"./odsc-assets/U.png\" style=\"width: 200px\" /> | <img src=\"./odsc-assets/diverging.png\" style=\"width: 200px\" /> | Use diverging to highlight interesting low frequency / symmetric nature |\n",
    "| <img src=\"./odsc-assets/S.png\" style=\"width: 200px\" /> | <img src=\"./odsc-assets/sequential.png\" style=\"width: 200px\" /> | Choose ramp on a case-by-case basis | \n",
    "| <img src=\"./odsc-assets/F.png\" style=\"width: 200px\" /> | <img src=\"./odsc-assets/sequential.png\" style=\"width: 200px\" /> |\n",
    "\n",
    "### Don't use choropleths (color by value in polygons) for count data\n",
    "\n",
    "Because geographies are often different in size, it misrepresents the data if coloring polygons by count data. It is better to take the density (count per area) or normalize by appropriate population.\n",
    "\n",
    "### Take care when aggregating data\n",
    "\n",
    "Aggregated data can be grossly misinterpretted if the data is aggregated in the wrong way. This is known as the [Modifiable Areal Unit Problem](https://en.wikipedia.org/wiki/Modifiable_areal_unit_problem), which leads to problems like mis-diganosing health crises.\n",
    "\n",
    "<img src=\"https://images.theconversation.com/files/138107/original/image-20160916-17029-ywva09.jpg?ixlib=rb-1.1.0&q=30&auto=format&w=754&h=976&fit=crop&dpr=2\" style=\"width: 500px\" />"
   ]
  },
  {
   "cell_type": "markdown",
   "metadata": {},
   "source": [
    "## NYC Collisions\n",
    "\n",
    "Hex Bins"
   ]
  },
  {
   "cell_type": "code",
   "execution_count": null,
   "metadata": {},
   "outputs": [],
   "source": [
    "vl.Map(layers=[\n",
    "        vl.Layer('nyc_collisions',\n",
    "                 style={'color': 'opacity(ramp($cyclists_killed, sunset), 0.7)'},\n",
    "                )\n",
    "    ],\n",
    "    context=cc\n",
    ")"
   ]
  }
 ],
 "metadata": {
  "kernelspec": {
   "display_name": "Python 3",
   "language": "python",
   "name": "python3"
  },
  "language_info": {
   "codemirror_mode": {
    "name": "ipython",
    "version": 3
   },
   "file_extension": ".py",
   "mimetype": "text/x-python",
   "name": "python",
   "nbconvert_exporter": "python",
   "pygments_lexer": "ipython3",
   "version": "3.7.3"
  }
 },
 "nbformat": 4,
 "nbformat_minor": 2
}
